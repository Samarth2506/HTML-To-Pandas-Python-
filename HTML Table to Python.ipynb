{
 "cells": [
  {
   "cell_type": "code",
   "execution_count": 88,
   "metadata": {},
   "outputs": [],
   "source": [
    "# import libraries\n",
    "import requests\n",
    "from bs4 import BeautifulSoup"
   ]
  },
  {
   "cell_type": "code",
   "execution_count": 98,
   "metadata": {},
   "outputs": [],
   "source": [
    "# parse the weburl using the html parser of Python\n",
    "page = requests.get('http://www.gyanmitra.in/common-chemical-reagents-formulas/')\n",
    "soup = BeautifulSoup(page.text, 'html.parser')\n",
    "\n",
    "table = soup.find_all('table')[0] \n",
    "\n",
    "# initialize empty dataframe\n",
    "chem_table = pd.DataFrame(columns=range(0,3), index = list(range(0,len(table.find_all('tr'))-2)))"
   ]
  },
  {
   "cell_type": "code",
   "execution_count": 100,
   "metadata": {},
   "outputs": [],
   "source": [
    "# iterate through the table label of html\n",
    "row_marker = 0\n",
    "row = 2\n",
    "for row in table.find_all('tr')[2:]:\n",
    "    column_marker = 0\n",
    "    columns = row.find_all('td')\n",
    "    for column in columns:\n",
    "        chem_table.iat[row_marker,column_marker] = column.get_text()\n",
    "        column_marker += 1\n",
    "    row_marker += 1"
   ]
  },
  {
   "cell_type": "code",
   "execution_count": 101,
   "metadata": {},
   "outputs": [
    {
     "data": {
      "text/html": [
       "<div>\n",
       "<style scoped>\n",
       "    .dataframe tbody tr th:only-of-type {\n",
       "        vertical-align: middle;\n",
       "    }\n",
       "\n",
       "    .dataframe tbody tr th {\n",
       "        vertical-align: top;\n",
       "    }\n",
       "\n",
       "    .dataframe thead th {\n",
       "        text-align: right;\n",
       "    }\n",
       "</style>\n",
       "<table border=\"1\" class=\"dataframe\">\n",
       "  <thead>\n",
       "    <tr style=\"text-align: right;\">\n",
       "      <th></th>\n",
       "      <th>0</th>\n",
       "      <th>1</th>\n",
       "      <th>2</th>\n",
       "    </tr>\n",
       "  </thead>\n",
       "  <tbody>\n",
       "    <tr>\n",
       "      <th>0</th>\n",
       "      <td>Chemical name</td>\n",
       "      <td>Chemical formula</td>\n",
       "      <td>Common name</td>\n",
       "    </tr>\n",
       "    <tr>\n",
       "      <th>1</th>\n",
       "      <td>Acetic acid</td>\n",
       "      <td>CH3COOH + H2O</td>\n",
       "      <td>5% Solution: White vinegar</td>\n",
       "    </tr>\n",
       "    <tr>\n",
       "      <th>2</th>\n",
       "      <td>Acetone</td>\n",
       "      <td>CH3COCH3</td>\n",
       "      <td>Acetone</td>\n",
       "    </tr>\n",
       "    <tr>\n",
       "      <th>3</th>\n",
       "      <td>Acetylene gas</td>\n",
       "      <td>C2H2</td>\n",
       "      <td>Ethyne</td>\n",
       "    </tr>\n",
       "    <tr>\n",
       "      <th>4</th>\n",
       "      <td>Acetylsalicylic acid</td>\n",
       "      <td>C9H8O4</td>\n",
       "      <td>Aspirin</td>\n",
       "    </tr>\n",
       "  </tbody>\n",
       "</table>\n",
       "</div>"
      ],
      "text/plain": [
       "                      0                 1                           2\n",
       "0         Chemical name  Chemical formula                 Common name\n",
       "1           Acetic acid     CH3COOH + H2O  5% Solution: White vinegar\n",
       "2               Acetone          CH3COCH3                     Acetone\n",
       "3         Acetylene gas              C2H2                      Ethyne\n",
       "4  Acetylsalicylic acid            C9H8O4                     Aspirin"
      ]
     },
     "execution_count": 101,
     "metadata": {},
     "output_type": "execute_result"
    }
   ],
   "source": [
    "chem_table.head()"
   ]
  },
  {
   "cell_type": "code",
   "execution_count": 102,
   "metadata": {},
   "outputs": [
    {
     "data": {
      "text/html": [
       "<div>\n",
       "<style scoped>\n",
       "    .dataframe tbody tr th:only-of-type {\n",
       "        vertical-align: middle;\n",
       "    }\n",
       "\n",
       "    .dataframe tbody tr th {\n",
       "        vertical-align: top;\n",
       "    }\n",
       "\n",
       "    .dataframe thead th {\n",
       "        text-align: right;\n",
       "    }\n",
       "</style>\n",
       "<table border=\"1\" class=\"dataframe\">\n",
       "  <thead>\n",
       "    <tr style=\"text-align: right;\">\n",
       "      <th></th>\n",
       "      <th>Chemical name</th>\n",
       "      <th>Chemical formula</th>\n",
       "      <th>Common name</th>\n",
       "    </tr>\n",
       "  </thead>\n",
       "  <tbody>\n",
       "    <tr>\n",
       "      <th>1</th>\n",
       "      <td>Acetic acid</td>\n",
       "      <td>CH3COOH + H2O</td>\n",
       "      <td>5% Solution: White vinegar</td>\n",
       "    </tr>\n",
       "    <tr>\n",
       "      <th>2</th>\n",
       "      <td>Acetone</td>\n",
       "      <td>CH3COCH3</td>\n",
       "      <td>Acetone</td>\n",
       "    </tr>\n",
       "    <tr>\n",
       "      <th>3</th>\n",
       "      <td>Acetylene gas</td>\n",
       "      <td>C2H2</td>\n",
       "      <td>Ethyne</td>\n",
       "    </tr>\n",
       "    <tr>\n",
       "      <th>4</th>\n",
       "      <td>Acetylsalicylic acid</td>\n",
       "      <td>C9H8O4</td>\n",
       "      <td>Aspirin</td>\n",
       "    </tr>\n",
       "    <tr>\n",
       "      <th>5</th>\n",
       "      <td>Aluminium</td>\n",
       "      <td>Al</td>\n",
       "      <td>Aluminium</td>\n",
       "    </tr>\n",
       "  </tbody>\n",
       "</table>\n",
       "</div>"
      ],
      "text/plain": [
       "0         Chemical name Chemical formula                 Common name\n",
       "1           Acetic acid    CH3COOH + H2O  5% Solution: White vinegar\n",
       "2               Acetone         CH3COCH3                     Acetone\n",
       "3         Acetylene gas             C2H2                      Ethyne\n",
       "4  Acetylsalicylic acid           C9H8O4                     Aspirin\n",
       "5             Aluminium               Al                   Aluminium"
      ]
     },
     "execution_count": 102,
     "metadata": {},
     "output_type": "execute_result"
    }
   ],
   "source": [
    "# rename columns of the dataframe\n",
    "chem_table.columns = chem_table.iloc[0]\n",
    "chem_table = chem_table.iloc[1:]\n",
    "chem_table.head()"
   ]
  },
  {
   "cell_type": "code",
   "execution_count": 130,
   "metadata": {},
   "outputs": [],
   "source": [
    "# create dictionary of chemicals and corresponding formula\n",
    "list1 = list(chem_table.iloc[:,0])\n",
    "list2 = list(chem_table.iloc[:,1])\n",
    "\n",
    "mydict = dict(zip(list1, list2))"
   ]
  },
  {
   "cell_type": "code",
   "execution_count": 135,
   "metadata": {},
   "outputs": [
    {
     "name": "stdout",
     "output_type": "stream",
     "text": [
      "CH3COOH + H2O\n"
     ]
    }
   ],
   "source": [
    "print(mydict['Acetic acid'])"
   ]
  },
  {
   "cell_type": "markdown",
   "metadata": {},
   "source": [
    "## References\n",
    "\n",
    "* https://srome.github.io/Parsing-HTML-Tables-in-Python-with-BeautifulSoup-and-pandas/"
   ]
  },
  {
   "cell_type": "code",
   "execution_count": null,
   "metadata": {},
   "outputs": [],
   "source": []
  }
 ],
 "metadata": {
  "kernelspec": {
   "display_name": "Python 3",
   "language": "python",
   "name": "python3"
  },
  "language_info": {
   "codemirror_mode": {
    "name": "ipython",
    "version": 3
   },
   "file_extension": ".py",
   "mimetype": "text/x-python",
   "name": "python",
   "nbconvert_exporter": "python",
   "pygments_lexer": "ipython3",
   "version": "3.6.4"
  }
 },
 "nbformat": 4,
 "nbformat_minor": 2
}
